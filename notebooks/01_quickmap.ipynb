
import geopandas as gpd
import pandas as pd
import os
from ipyleaflet import Map, CircleMarker, LayersControl

# Load from PostGIS via geopandas
import sqlalchemy as sa

engine = sa.create_engine("postgresql://postgres:postgres@db:5432/pathfinder")
df = pd.read_sql("select * from events_raw limit 1000", engine)
gdf = gpd.GeoDataFrame(df,
                       geometry=gpd.points_from_xy(df.longitude, df.latitude),
                       crs="epsg:4326")

# Simple Leaflet map
m = Map(center=(15, 25), zoom=5)
for _, row in gdf.iterrows():
    m.add_layer(CircleMarker(location=(row.latitude, row.longitude),
                             radius=3, color="red"))
m.add_control(LayersControl())
m
